{
 "cells": [
  {
   "cell_type": "code",
   "execution_count": 46,
   "metadata": {},
   "outputs": [
    {
     "data": {
      "text/plain": [
       "21"
      ]
     },
     "execution_count": 46,
     "metadata": {},
     "output_type": "execute_result"
    }
   ],
   "source": [
    "import pandas as pd\n",
    "import requests\n",
    "\n",
    "import sqlite3\n",
    "\n",
    "conn = sqlite3.connect('banco_teste.db')\n",
    "cursor = conn.cursor()\n",
    "\n",
    "url1 = \"https://brasilapi.com.br/api/cptec/v1/cidade\"\n",
    "url2 = \"https://brasilapi.com.br/api/cptec/v1/clima/capital\" #não utilizado na atividade\n",
    "url3 = \"https://brasilapi.com.br/api/cptec/v1/clima/previsao/{cityCode}\" #não utilizado na atividade\n",
    "\n",
    "# Função para permitir a extração dos dados e geração da tabela (será incrementado posteriormente o retorno para permitir as manipulações)\n",
    "def carregar_dados(url):\n",
    "    response = requests.get(url)\n",
    "    if response.status_code == 200:\n",
    "        data = response.json()\n",
    "        df = pd.DataFrame(data)\n",
    "        return df\n",
    "    else:\n",
    "        data = []\n",
    "        return df\n",
    "        # print(f'falha ao carregar')\n",
    "        \n",
    "\n",
    "        \n",
    "estados = carregar_dados(url1)\n",
    "# Rename columns\n",
    "df = estados.rename(columns={'nome': 'Nome', 'id': 'ID', 'estado': 'Estado'})\n",
    "\n",
    "df['ID'] = df['ID'].astype(str)\n",
    "\n",
    "df['Estado'].fillna('n/d', inplace=True)\n",
    "\n",
    "grouped_df = df.groupby('Estado')['ID'].count().reset_index()\n",
    "grouped_df.to_sql('tabela_estados', conn, if_exists='replace', index=False)\n"
   ]
  }
 ],
 "metadata": {
  "kernelspec": {
   "display_name": "Python 3",
   "language": "python",
   "name": "python3"
  },
  "language_info": {
   "codemirror_mode": {
    "name": "ipython",
    "version": 3
   },
   "file_extension": ".py",
   "mimetype": "text/x-python",
   "name": "python",
   "nbconvert_exporter": "python",
   "pygments_lexer": "ipython3",
   "version": "3.11.4"
  },
  "orig_nbformat": 4
 },
 "nbformat": 4,
 "nbformat_minor": 2
}
